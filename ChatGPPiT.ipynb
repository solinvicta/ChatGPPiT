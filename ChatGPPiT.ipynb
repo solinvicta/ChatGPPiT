{
 "cells": [
  {
   "cell_type": "code",
   "execution_count": null,
   "id": "0b97471b",
   "metadata": {},
   "outputs": [],
   "source": [
    "from io import StringIO\n",
    "from time import sleep\n",
    "\n",
    "import pandas as pd\n",
    "import openai\n",
    "import networkx as nx\n",
    "from pyvis.network import Network"
   ]
  },
  {
   "cell_type": "code",
   "execution_count": null,
   "id": "f6c6e625",
   "metadata": {},
   "outputs": [],
   "source": [
    "openai.api_key = 'Insert your API key here'\n",
    "proteinNumber = 20\n",
    "startGene = 'TNF'\n",
    "context = 'macrophages'"
   ]
  },
  {
   "cell_type": "code",
   "execution_count": null,
   "id": "36e96a7d",
   "metadata": {},
   "outputs": [],
   "source": [
    "def getBinders(gene, context):\n",
    "    prompt = f\"What are up to \" + str(proteinNumber) + \" known proteins associated with \" + gene + \" in \" + context + \", presented as a table with one column for Gene Symbol, and another columns with a description of how the protein is associated with \" + gene + \" in \" + context + \"?\"\n",
    "    print('Checking for ' + gene + ' in the context of ' + context)\n",
    "    response = openai.ChatCompletion.create(\n",
    "      model=\"gpt-3.5-turbo\",\n",
    "      messages=[\n",
    "            {\"role\": \"system\", \"content\": \"You are a helpful assistant that provides your answers in two-column tables and uses canonical gene symbols as identifiers for genes and proteins.\"},\n",
    "            {\"role\": \"user\", \"content\": prompt}\n",
    "        ]\n",
    "    )\n",
    "\n",
    "    message = response['choices'][0]['message']['content']\n",
    "    message = '|'.join(message.split('|')[1:-1])\n",
    "    \n",
    "    #The try block is necessary just in case ChatGPT responds with a non-standard output\n",
    "    try:\n",
    "        df = pd.read_table(StringIO(message), sep='|')\n",
    "        df.columns = ['Target', 'Association', 'd']\n",
    "        df= df[['Target', 'Association']]\n",
    "        df['Target'] = df['Target'].str.strip()\n",
    "        df['Source'] = gene\n",
    "        df = df.reset_index()\n",
    "        del df['index']\n",
    "        df.drop(0, inplace=True)\n",
    "        return df\n",
    "    except:\n",
    "        print(message)\n",
    "        return pd.DataFrame(columns= ['Target', 'Association', 'Source'])\n"
   ]
  },
  {
   "cell_type": "code",
   "execution_count": null,
   "id": "3dbd2494",
   "metadata": {},
   "outputs": [],
   "source": [
    "seedResult = getBinders(gene, context)\n",
    "seedResult"
   ]
  },
  {
   "cell_type": "code",
   "execution_count": null,
   "id": "8fdf2101",
   "metadata": {},
   "outputs": [],
   "source": [
    "allResults = seedResult\n",
    "for g in list(seedResult['Target']):\n",
    "    result = getBinders(g.strip(), context)\n",
    "    allResults = pd.concat([allResults, result])\n",
    "    sleep(5) #This timeout is currently necessary for limited access accounts.  Feel free to disable if possible\n"
   ]
  },
  {
   "cell_type": "code",
   "execution_count": null,
   "id": "fdaaf98c",
   "metadata": {},
   "outputs": [],
   "source": [
    "allResults.columns = ['target', 'title', 'source']\n",
    "G  = nx.from_pandas_edgelist(allResults, source='source', target='target', edge_attr=True)\n",
    "nt = Network(notebook=True)\n",
    "nt.from_nx(G)"
   ]
  },
  {
   "cell_type": "code",
   "execution_count": null,
   "id": "b4f73a2a",
   "metadata": {},
   "outputs": [],
   "source": [
    "nt.show('example.html')"
   ]
  }
 ],
 "metadata": {
  "kernelspec": {
   "display_name": "Python 3 (ipykernel)",
   "language": "python",
   "name": "python3"
  },
  "language_info": {
   "codemirror_mode": {
    "name": "ipython",
    "version": 3
   },
   "file_extension": ".py",
   "mimetype": "text/x-python",
   "name": "python",
   "nbconvert_exporter": "python",
   "pygments_lexer": "ipython3",
   "version": "3.9.13"
  }
 },
 "nbformat": 4,
 "nbformat_minor": 5
}
